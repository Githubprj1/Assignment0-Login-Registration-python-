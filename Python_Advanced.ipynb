{
  "nbformat": 4,
  "nbformat_minor": 0,
  "metadata": {
    "colab": {
      "provenance": [],
      "authorship_tag": "ABX9TyPUTcnXHKXze6Hx4Rldtz0s",
      "include_colab_link": true
    },
    "kernelspec": {
      "name": "python3",
      "display_name": "Python 3"
    },
    "language_info": {
      "name": "python"
    }
  },
  "cells": [
    {
      "cell_type": "markdown",
      "metadata": {
        "id": "view-in-github",
        "colab_type": "text"
      },
      "source": [
        "<a href=\"https://colab.research.google.com/github/Githubprj1/Assignment0-Login-Registration-python-/blob/main/Python_Advanced.ipynb\" target=\"_parent\"><img src=\"https://colab.research.google.com/assets/colab-badge.svg\" alt=\"Open In Colab\"/></a>"
      ]
    },
    {
      "cell_type": "markdown",
      "source": [
        "# Python Functions"
      ],
      "metadata": {
        "id": "vy-Sudw6NN4G"
      }
    },
    {
      "cell_type": "code",
      "source": [
        "# Function is a block of code which will run when it is called inside the program\n",
        "# EXAMPLE: Let us see how to create a FUNCTION and call it to return values\n",
        "def function_def():\n",
        "  print(\"this is how python function is defined\")\n",
        "\n",
        "function_def()  #calling the function"
      ],
      "metadata": {
        "colab": {
          "base_uri": "https://localhost:8080/"
        },
        "id": "uXGuwqX_NTix",
        "outputId": "c785f589-ec52-4f23-cf25-e0d0ee421772"
      },
      "execution_count": null,
      "outputs": [
        {
          "output_type": "stream",
          "name": "stdout",
          "text": [
            "this is how python function is defined\n"
          ]
        }
      ]
    },
    {
      "cell_type": "markdown",
      "source": [
        "# Functions as Arguments"
      ],
      "metadata": {
        "id": "lz2WjVgqL4Q7"
      }
    },
    {
      "cell_type": "code",
      "source": [
        "#Arguments is used in function to pass the information\n",
        "#parameter are given after the function definition inside the paranthesis with comma seperated\n",
        "# EXAMPLE: creating a function called fullname and passing a parameter firstname and lastname and calling it ith arguments(\"hema\",\"krish\")\n",
        "def fullname(firstname,lastname):  # parameter1 - firstname , parameter2 - lastname\n",
        "  print(firstname + \" \" + lastname)\n",
        "\n",
        "fullname(\"hema\",\"krish\")"
      ],
      "metadata": {
        "colab": {
          "base_uri": "https://localhost:8080/"
        },
        "id": "27gL4xgGMAuy",
        "outputId": "022e88d9-2530-4b69-b51e-c19b45c66e7f"
      },
      "execution_count": null,
      "outputs": [
        {
          "output_type": "stream",
          "name": "stdout",
          "text": [
            "hema krish\n"
          ]
        }
      ]
    },
    {
      "cell_type": "markdown",
      "source": [
        "# Arguments - certain forms"
      ],
      "metadata": {
        "id": "6TfhnsDQUMzB"
      }
    },
    {
      "cell_type": "code",
      "source": [
        "# If the arguments is unknown we can mention * before the parameter\n",
        "# EXAMPLE: to print the MNC company names(which will be many names as per data)\n",
        "def MNC_name(*names):\n",
        "  print(\"The company name is \" + names[0]) # mentioned the position of the arugment nae to be displayed\n",
        "\n",
        "MNC_name(\"Accenture\",\"Wipro\",\"Cognizant\",\"TATA consultancy\")\n",
        "\n"
      ],
      "metadata": {
        "colab": {
          "base_uri": "https://localhost:8080/"
        },
        "id": "Ld8QGVyMUUXa",
        "outputId": "a0666803-24f8-49eb-d5cd-811b6f1bb757"
      },
      "execution_count": null,
      "outputs": [
        {
          "output_type": "stream",
          "name": "stdout",
          "text": [
            "The company name is Accenture\n"
          ]
        }
      ]
    },
    {
      "cell_type": "code",
      "source": [
        "# KEYWORD ARGUMENTS - mention the value particularlu=y\n",
        "# EXAMPLE: to choose favourite language\n",
        "def Fav_prglang(prglang1,prglang2,prglang3,prglang4):\n",
        "  print(\"My favourite programming language is \" + prglang4)\n",
        "\n",
        "Fav_prglang(prglang1=\"C\",prglang2=\"JAVA\",prglang3=\"GOLANG\",prglang4=\"PYTHON\")"
      ],
      "metadata": {
        "colab": {
          "base_uri": "https://localhost:8080/"
        },
        "id": "VvZ24z3WWbRI",
        "outputId": "470d12dc-f53b-4a56-8aef-741f77fb5ad2"
      },
      "execution_count": null,
      "outputs": [
        {
          "output_type": "stream",
          "name": "stdout",
          "text": [
            "My favourite programming language is PYTHON\n"
          ]
        }
      ]
    },
    {
      "cell_type": "code",
      "source": [
        "# DEFAULT PARAMETER VALUE - calling a function without any value , it picks the default parameter value\n",
        "def def_value(skills=\"python\"):\n",
        "    print(\"Everyone needs to learn any one programming language: \" + skills)\n",
        "\n",
        "def_value(\"false\")\n",
        "def_value(\"true\")\n",
        "def_value()\n",
        "\n"
      ],
      "metadata": {
        "colab": {
          "base_uri": "https://localhost:8080/"
        },
        "id": "kHXDUNeKX1K2",
        "outputId": "177b7ec9-51d0-480e-be04-48d364d4bfaf"
      },
      "execution_count": null,
      "outputs": [
        {
          "output_type": "stream",
          "name": "stdout",
          "text": [
            "Everyone needs to learn any one programming language: false\n",
            "Everyone needs to learn any one programming language: true\n",
            "Everyone needs to learn any one programming language: python\n"
          ]
        }
      ]
    },
    {
      "cell_type": "code",
      "source": [
        "# Function with Return statement\n",
        "def sum(x,y):\n",
        "  return x+y\n",
        "\n",
        "print(sum(2,3))"
      ],
      "metadata": {
        "colab": {
          "base_uri": "https://localhost:8080/"
        },
        "id": "xLe_ojQ-juye",
        "outputId": "805db230-aa36-4aff-b4c8-f4c9c35704c7"
      },
      "execution_count": null,
      "outputs": [
        {
          "output_type": "stream",
          "name": "stdout",
          "text": [
            "5\n"
          ]
        }
      ]
    },
    {
      "cell_type": "markdown",
      "source": [
        "NOTE: Function cannot be empty , so avoid error or to eep the function definition we can use PASS statement\n",
        "def def_name():\n",
        "    pass\n",
        "\n",
        "\n",
        "Therefore functions can be used in an code to avoid repeatative block of code in an program** **bold text** **bold text**"
      ],
      "metadata": {
        "id": "kDlNdw7PkYRR"
      }
    },
    {
      "cell_type": "markdown",
      "source": [
        "# LIST and  LIST COMPREHENSION"
      ],
      "metadata": {
        "id": "UtEFmVlvngOq"
      }
    },
    {
      "cell_type": "code",
      "source": [
        "#List - List in python -> built-in datatype which accepts dfferent datatpe values and defined with squared bracket\n",
        "#It is ordered,changeable and allow duplicates\n",
        "#We can modify ,add and remove values\n",
        "# EXAMPLE:\n",
        "list=['ram','priya','rose','lily']\n",
        "print(list)"
      ],
      "metadata": {
        "colab": {
          "base_uri": "https://localhost:8080/"
        },
        "id": "67f3eGD-nntt",
        "outputId": "c2fcd126-e3ea-49d9-9f56-c38899e1c5a7"
      },
      "execution_count": null,
      "outputs": [
        {
          "output_type": "stream",
          "name": "stdout",
          "text": [
            "['ram', 'priya', 'rose', 'lily']\n"
          ]
        }
      ]
    },
    {
      "cell_type": "code",
      "source": [
        "#LIST COMPREHENSION --> one line of code\n",
        "# EXAMPLE: TO GET A NAME WHICH HAS 'a' IN THE LIST OF NAMES\n",
        "\n",
        "newlist=[x for x in list if 'a' in x]\n",
        "print(newlist)\n",
        "\n",
        "# #if we use loops it will be as below:\n",
        "# newlist=[]\n",
        "# for x in list:\n",
        "#   if 'a' in x:\n",
        "#     newlist.append(x)\n",
        "#   else:\n",
        "#     continue\n",
        "# print(newlist)\n",
        "\n",
        "\n"
      ],
      "metadata": {
        "colab": {
          "base_uri": "https://localhost:8080/"
        },
        "id": "_j9vjvCbpULw",
        "outputId": "da81e196-8cb5-4245-a5d3-bd7fa5589662"
      },
      "execution_count": null,
      "outputs": [
        {
          "output_type": "stream",
          "name": "stdout",
          "text": [
            "['ram', 'priya']\n"
          ]
        }
      ]
    },
    {
      "cell_type": "markdown",
      "source": [
        "NOTE: Rather than using multiple line of code we can go for single line of code using LIST COMPREHENSION and it is faster than other functions and loops to create list."
      ],
      "metadata": {
        "id": "U7Xct2DspqvR"
      }
    },
    {
      "cell_type": "markdown",
      "source": [
        "## FILE HANDLING"
      ],
      "metadata": {
        "id": "6qtQ94b4wlMy"
      }
    },
    {
      "cell_type": "code",
      "execution_count": null,
      "metadata": {
        "id": "XTLxApD7vWRd"
      },
      "outputs": [],
      "source": [
        "import os              #create folder\n",
        "os.mkdir('myfolder')"
      ]
    },
    {
      "cell_type": "markdown",
      "source": [
        "OS - module in python which helps to interact with the operating system.\n",
        "\n",
        "Here we are creating folder called myfolder"
      ],
      "metadata": {
        "id": "TMvUH9xxxEIM"
      }
    },
    {
      "cell_type": "code",
      "source": [
        "os.mkdir('myfolder/sample')"
      ],
      "metadata": {
        "id": "9uMkcH8Wz8KZ"
      },
      "execution_count": null,
      "outputs": []
    },
    {
      "cell_type": "markdown",
      "source": [
        "creating text file inside a folder - sample"
      ],
      "metadata": {
        "id": "MNPsZ3cp0MzC"
      }
    },
    {
      "cell_type": "code",
      "source": [
        "#create a file\n",
        "file1=open(\"sample.txt\",\"x\")   # create a new file\n",
        "file1=open(\"sample.txt\",\"w\")   # w give write access\n",
        "file1=open(\"sample.txt\",\"a\")  # 'a'append\n",
        "file1.write(\"python is easy language\")\n",
        "file1.close()  #it is always good practice to close file after file creation becos some time the changes\n",
        "               # may not show until we cloe the file\n"
      ],
      "metadata": {
        "id": "bXB8MBg30TLe"
      },
      "execution_count": null,
      "outputs": []
    },
    {
      "cell_type": "code",
      "source": [
        "#Below code represent how to opend and read a file\n",
        "f = open(\"sample.txt\", \"r\") # to open file  and need to give 'r' read command\n",
        "\n",
        "print(f.read())\n"
      ],
      "metadata": {
        "colab": {
          "base_uri": "https://localhost:8080/"
        },
        "id": "MWJifPjxCbLk",
        "outputId": "c07d41bd-0442-470d-bd5a-1b6f7b35ef9f"
      },
      "execution_count": null,
      "outputs": [
        {
          "output_type": "stream",
          "name": "stdout",
          "text": [
            "python is easy language\n"
          ]
        }
      ]
    },
    {
      "cell_type": "code",
      "source": [
        "# REMOVE OR DELETE FILE : to remove the file we should USE os.remove\n",
        "#f2=open(\"sample1.txt\",\"x\")\n",
        "#os.remove(\"sample.txt\")\n"
      ],
      "metadata": {
        "id": "kvRQbKbVCxEn"
      },
      "execution_count": null,
      "outputs": []
    },
    {
      "cell_type": "markdown",
      "source": [
        "# LAMBDA,FILTERS AND MAP"
      ],
      "metadata": {
        "id": "ON7_3hsTL7C1"
      }
    },
    {
      "cell_type": "code",
      "source": [
        "#LAMBDA FUNCTION: Lambda keyword to define unnamed function\n",
        "# takes n number of arguments but takes one expression and retruns one argument at a time\n",
        "# EXAMPLE: to sum three numbers\n",
        "x = lambda a,b,c : a+b+c\n",
        "print(x(1,2,3))\n"
      ],
      "metadata": {
        "colab": {
          "base_uri": "https://localhost:8080/"
        },
        "id": "0Sb26QXeILNV",
        "outputId": "a14fd227-7a20-448a-f909-dad5a7dba248"
      },
      "execution_count": null,
      "outputs": [
        {
          "output_type": "stream",
          "name": "stdout",
          "text": [
            "6\n"
          ]
        }
      ]
    },
    {
      "cell_type": "code",
      "source": [
        "#LAMBDA FUNCTION WITH FILTER\n",
        "#EXAMPLE: TO PRINT EVEN NUMBER FROM LIST\n",
        "numbers=[1,2,3,4,5,6,7,8,9,10]\n",
        "even_values = list(filter(lambda z: z%2 == 0,numbers)) #filter accepts two arguments functions and list\n",
        "print(even_values)"
      ],
      "metadata": {
        "colab": {
          "base_uri": "https://localhost:8080/",
          "height": 227
        },
        "id": "Hx8VP69xQeEh",
        "outputId": "7a67a333-5017-44a6-d223-8c1b5c98b87d"
      },
      "execution_count": null,
      "outputs": [
        {
          "output_type": "error",
          "ename": "TypeError",
          "evalue": "ignored",
          "traceback": [
            "\u001b[0;31m---------------------------------------------------------------------------\u001b[0m",
            "\u001b[0;31mTypeError\u001b[0m                                 Traceback (most recent call last)",
            "\u001b[0;32m<ipython-input-41-ac472ce34125>\u001b[0m in \u001b[0;36m<cell line: 4>\u001b[0;34m()\u001b[0m\n\u001b[1;32m      2\u001b[0m \u001b[0;31m#EXAMPLE: TO PRINT EVEN NUMBER FROM LIST\u001b[0m\u001b[0;34m\u001b[0m\u001b[0;34m\u001b[0m\u001b[0m\n\u001b[1;32m      3\u001b[0m \u001b[0mnumbers\u001b[0m\u001b[0;34m=\u001b[0m\u001b[0;34m[\u001b[0m\u001b[0;36m1\u001b[0m\u001b[0;34m,\u001b[0m\u001b[0;36m2\u001b[0m\u001b[0;34m,\u001b[0m\u001b[0;36m3\u001b[0m\u001b[0;34m,\u001b[0m\u001b[0;36m4\u001b[0m\u001b[0;34m,\u001b[0m\u001b[0;36m5\u001b[0m\u001b[0;34m,\u001b[0m\u001b[0;36m6\u001b[0m\u001b[0;34m,\u001b[0m\u001b[0;36m7\u001b[0m\u001b[0;34m,\u001b[0m\u001b[0;36m8\u001b[0m\u001b[0;34m,\u001b[0m\u001b[0;36m9\u001b[0m\u001b[0;34m,\u001b[0m\u001b[0;36m10\u001b[0m\u001b[0;34m]\u001b[0m\u001b[0;34m\u001b[0m\u001b[0;34m\u001b[0m\u001b[0m\n\u001b[0;32m----> 4\u001b[0;31m \u001b[0meven_values\u001b[0m \u001b[0;34m=\u001b[0m \u001b[0mlist\u001b[0m\u001b[0;34m(\u001b[0m\u001b[0mfilter\u001b[0m\u001b[0;34m(\u001b[0m\u001b[0;32mlambda\u001b[0m \u001b[0mz\u001b[0m\u001b[0;34m:\u001b[0m \u001b[0mz\u001b[0m\u001b[0;34m%\u001b[0m\u001b[0;36m2\u001b[0m \u001b[0;34m==\u001b[0m \u001b[0;36m0\u001b[0m\u001b[0;34m,\u001b[0m\u001b[0mnumbers\u001b[0m\u001b[0;34m)\u001b[0m\u001b[0;34m)\u001b[0m \u001b[0;31m#filter accepts two arguments functions and list\u001b[0m\u001b[0;34m\u001b[0m\u001b[0;34m\u001b[0m\u001b[0m\n\u001b[0m\u001b[1;32m      5\u001b[0m \u001b[0mprint\u001b[0m\u001b[0;34m(\u001b[0m\u001b[0meven_values\u001b[0m\u001b[0;34m)\u001b[0m\u001b[0;34m\u001b[0m\u001b[0;34m\u001b[0m\u001b[0m\n",
            "\u001b[0;31mTypeError\u001b[0m: 'list' object is not callable"
          ]
        }
      ]
    },
    {
      "cell_type": "code",
      "source": [
        "#LAMBDA FUNCTION WITH MAP\n",
        "p=[1,2,3,4,5]\n",
        "q=list(map(lambda t:t*2,p))  #map will apply the formula to all the values\n",
        "print(q)"
      ],
      "metadata": {
        "colab": {
          "base_uri": "https://localhost:8080/",
          "height": 227
        },
        "id": "pFuiSNj8TdET",
        "outputId": "c5cf1e11-5b8c-4f21-a12c-17a97c85a1d4"
      },
      "execution_count": null,
      "outputs": [
        {
          "output_type": "error",
          "ename": "TypeError",
          "evalue": "ignored",
          "traceback": [
            "\u001b[0;31m---------------------------------------------------------------------------\u001b[0m",
            "\u001b[0;31mTypeError\u001b[0m                                 Traceback (most recent call last)",
            "\u001b[0;32m<ipython-input-30-045801a0b321>\u001b[0m in \u001b[0;36m<cell line: 3>\u001b[0;34m()\u001b[0m\n\u001b[1;32m      1\u001b[0m \u001b[0;31m#LAMBDA FUNCTION WITH MAP\u001b[0m\u001b[0;34m\u001b[0m\u001b[0;34m\u001b[0m\u001b[0m\n\u001b[1;32m      2\u001b[0m \u001b[0mp\u001b[0m\u001b[0;34m=\u001b[0m\u001b[0;34m[\u001b[0m\u001b[0;36m1\u001b[0m\u001b[0;34m,\u001b[0m\u001b[0;36m2\u001b[0m\u001b[0;34m,\u001b[0m\u001b[0;36m3\u001b[0m\u001b[0;34m,\u001b[0m\u001b[0;36m4\u001b[0m\u001b[0;34m,\u001b[0m\u001b[0;36m5\u001b[0m\u001b[0;34m]\u001b[0m\u001b[0;34m\u001b[0m\u001b[0;34m\u001b[0m\u001b[0m\n\u001b[0;32m----> 3\u001b[0;31m \u001b[0mq\u001b[0m\u001b[0;34m=\u001b[0m\u001b[0mlist\u001b[0m\u001b[0;34m(\u001b[0m\u001b[0mmap\u001b[0m\u001b[0;34m(\u001b[0m\u001b[0;32mlambda\u001b[0m \u001b[0mt\u001b[0m\u001b[0;34m:\u001b[0m\u001b[0mt\u001b[0m\u001b[0;34m*\u001b[0m\u001b[0;36m2\u001b[0m\u001b[0;34m,\u001b[0m\u001b[0mp\u001b[0m\u001b[0;34m)\u001b[0m\u001b[0;34m)\u001b[0m  \u001b[0;31m#map will apply the formula to all the values\u001b[0m\u001b[0;34m\u001b[0m\u001b[0;34m\u001b[0m\u001b[0m\n\u001b[0m\u001b[1;32m      4\u001b[0m \u001b[0mprint\u001b[0m\u001b[0;34m(\u001b[0m\u001b[0mq\u001b[0m\u001b[0;34m)\u001b[0m\u001b[0;34m\u001b[0m\u001b[0;34m\u001b[0m\u001b[0m\n",
            "\u001b[0;31mTypeError\u001b[0m: 'list' object is not callable"
          ]
        }
      ]
    },
    {
      "cell_type": "markdown",
      "source": [
        "# Iterators"
      ],
      "metadata": {
        "id": "3mEENQuPce7T"
      }
    },
    {
      "cell_type": "code",
      "source": [
        "# Iterator - object that can be iterated\n",
        "# use methods _iter_() and _next_()\n",
        "# EXAMPLE: iterating through num values\n",
        "nums=[5,6,7,8]\n",
        "it = iter(nums)\n",
        "print(it.__next__())\n"
      ],
      "metadata": {
        "id": "zBMNm97Qcjka",
        "colab": {
          "base_uri": "https://localhost:8080/"
        },
        "outputId": "c65f30d0-4307-490e-f153-f632ed7ab0cd"
      },
      "execution_count": null,
      "outputs": [
        {
          "output_type": "stream",
          "name": "stdout",
          "text": [
            "5\n"
          ]
        }
      ]
    },
    {
      "cell_type": "code",
      "source": [
        "#creating on class and using iterator\n",
        "\n",
        "class toptennum:\n",
        "\n",
        "  def __init__(self):\n",
        "    self.num = 1\n",
        "\n",
        "  def __iter__(self):\n",
        "    return self\n",
        "\n",
        "  def __next__(self):\n",
        "\n",
        "     if self.num <= 10:\n",
        "         ans = self.num\n",
        "         self.num +=1\n",
        "\n",
        "         return ans\n",
        "\n",
        "     else:\n",
        "         raise StopIteration\n",
        "\n",
        "answer = toptennum()\n",
        "\n",
        "for i in answer:\n",
        "   print(i)"
      ],
      "metadata": {
        "colab": {
          "base_uri": "https://localhost:8080/"
        },
        "id": "9ZcIip93mwC3",
        "outputId": "2d05678a-10b9-4389-96ac-7b23787e6a77"
      },
      "execution_count": null,
      "outputs": [
        {
          "output_type": "stream",
          "name": "stdout",
          "text": [
            "1\n",
            "2\n",
            "3\n",
            "4\n",
            "5\n",
            "6\n",
            "7\n",
            "8\n",
            "9\n",
            "10\n"
          ]
        }
      ]
    },
    {
      "cell_type": "markdown",
      "source": [
        "# PICKLING\n"
      ],
      "metadata": {
        "id": "c-f_czLKcVjD"
      }
    },
    {
      "cell_type": "code",
      "source": [
        "# pickle is a module which is used to convert the data to binary data\n",
        "# In general if any data need to be transfered securely through any network medium we can use pickle module in python to convert which is understandable by machine\n",
        "# EXAMPLE: Trying to secure the passwords by copying to file\n",
        "import pickle\n",
        "passwords=[\"abcsd1@1\",\"fnanfw1#\",\"lopiH*31\"]\n",
        "file3=\"pwd.pkl\"  #creating a file\n",
        "fileobject=open(file3,\"wb\")  #write binary in file3\n",
        "pickle.dump(passwords,fileobject) #pickle.dump(data,filename) which will dump the passwords to binary data\n",
        "fileobject.close()"
      ],
      "metadata": {
        "id": "y-zIB97lqfR6"
      },
      "execution_count": null,
      "outputs": []
    },
    {
      "cell_type": "markdown",
      "source": [
        "When we open the PWD.PKL file, it will not be understood by us"
      ],
      "metadata": {
        "id": "LgLkLrqttjb1"
      }
    },
    {
      "cell_type": "code",
      "source": [
        "# to decode the pickled file (i:e:- to make understandable)\n",
        "# file3=\"pwd.pkl\"  #creating a file\n",
        "# fileobject=open(file3,\"rb\")  #read binary in file3\n",
        "# print(pickle.load(fileobject))"
      ],
      "metadata": {
        "id": "ND1mUsNetwB5"
      },
      "execution_count": null,
      "outputs": []
    },
    {
      "cell_type": "markdown",
      "source": [
        "# Python JSON"
      ],
      "metadata": {
        "id": "d_59DaiD7LHC"
      }
    },
    {
      "cell_type": "code",
      "source": [
        "import json   # Built in module to work in json\n",
        "# creating a json file list of dictionary\n",
        "mydict={\"people\" : [{\"name\" : \"divya\", \"age\" : 26,\"weight\": 62},{\"name\" : \"hanna\",\"age\" : 20,\"weight\": 50} ,{\"name\" : \"tom\",\"age\" : 28,\"weight\": 65}]}\n",
        "\n",
        "\n",
        "json_string = json.dumps(mydict)\n",
        "with open('mydata.json','w') as f:\n",
        "     f.write(json_string)"
      ],
      "metadata": {
        "id": "Ip_XRk4n6sYH"
      },
      "execution_count": null,
      "outputs": []
    },
    {
      "cell_type": "code",
      "source": [
        "#load - will fetch data fro json\n",
        "X='{\"name\" : \"divya\", \"age\" : 26,\"weight\": 62}'\n",
        "Y=json.loads(X)\n",
        "print(Y[\"age\"])"
      ],
      "metadata": {
        "colab": {
          "base_uri": "https://localhost:8080/"
        },
        "id": "4Q8GIe3PHnyw",
        "outputId": "340729da-a383-4ee4-aee8-817dfa1e006e"
      },
      "execution_count": null,
      "outputs": [
        {
          "output_type": "stream",
          "name": "stdout",
          "text": [
            "26\n"
          ]
        }
      ]
    },
    {
      "cell_type": "code",
      "source": [
        "\n",
        "# PYTHON TO JSON --> json.dumps\n",
        "A = {\"name\": \"HEMA\",\"age\": 25,\"city\": \"GERMANY\"}\n",
        "\n",
        "# convert into JSON:\n",
        "B = json.dumps(A)\n",
        "\n",
        "# the result Will be in JSON string:\n",
        "print(B)\n"
      ],
      "metadata": {
        "colab": {
          "base_uri": "https://localhost:8080/"
        },
        "id": "FekmxFn1IeYx",
        "outputId": "48d23cad-4914-46be-f990-9df9d7fa15ed"
      },
      "execution_count": null,
      "outputs": [
        {
          "output_type": "stream",
          "name": "stdout",
          "text": [
            "{\"name\": \"HEMA\", \"age\": 25, \"city\": \"GERMANY\"}\n"
          ]
        }
      ]
    },
    {
      "cell_type": "markdown",
      "source": [
        "# DATE , TIME MODULE AND OPERATIONS"
      ],
      "metadata": {
        "id": "x49WXSRGFWkU"
      }
    },
    {
      "cell_type": "code",
      "source": [
        "import datetime # gives date and time\n",
        "\n",
        "Dt=datetime.datetime.now()\n",
        "print(Dt)"
      ],
      "metadata": {
        "colab": {
          "base_uri": "https://localhost:8080/"
        },
        "id": "OqjnGl1aFV7A",
        "outputId": "82db24ec-7d2c-4177-a290-3674708feda6"
      },
      "execution_count": null,
      "outputs": [
        {
          "output_type": "stream",
          "name": "stdout",
          "text": [
            "2023-09-04 17:12:49.847270\n"
          ]
        }
      ]
    },
    {
      "cell_type": "code",
      "source": [
        "# create date\n",
        "\n",
        "\n",
        "CreDt = datetime.datetime(2023, 9, 4) # year,month,date\n",
        "\n",
        "print(CreDt)"
      ],
      "metadata": {
        "colab": {
          "base_uri": "https://localhost:8080/"
        },
        "id": "34r0X8OzL95N",
        "outputId": "ecf1f823-77f2-4b78-8e5a-dc0f02f8955b"
      },
      "execution_count": null,
      "outputs": [
        {
          "output_type": "stream",
          "name": "stdout",
          "text": [
            "2023-09-04 00:00:00\n"
          ]
        }
      ]
    },
    {
      "cell_type": "code",
      "source": [
        "#display monthname - strftime\n",
        "monthname = datetime.datetime(2023, 5, 1)\n",
        "\n",
        "print(monthname.strftime(\"%B\"))"
      ],
      "metadata": {
        "colab": {
          "base_uri": "https://localhost:8080/"
        },
        "id": "fzh_B28RMXFs",
        "outputId": "ddd604c2-78eb-4ed4-c3c4-f1deba83f4d3"
      },
      "execution_count": null,
      "outputs": [
        {
          "output_type": "stream",
          "name": "stdout",
          "text": [
            "May\n"
          ]
        }
      ]
    },
    {
      "cell_type": "markdown",
      "source": [
        "We have many short cut format to fetch date , month,time"
      ],
      "metadata": {
        "id": "oQyS1PpSMzPJ"
      }
    },
    {
      "cell_type": "markdown",
      "source": [
        "# CALENDAR MODULE AND FUNCTIONS\n",
        "\n"
      ],
      "metadata": {
        "id": "lj-OZBU-F3Ep"
      }
    },
    {
      "cell_type": "code",
      "source": [
        "import calendar        #Built in module\n",
        "# to display calendar for a year\n",
        "\n",
        "print (\"The calendar for the year 2023 is :) \")\n",
        "print (calendar.calendar(2023))\n",
        "\n"
      ],
      "metadata": {
        "colab": {
          "base_uri": "https://localhost:8080/"
        },
        "id": "2vIUOq5GF_am",
        "outputId": "42c74fef-35f3-4575-df33-cbfb6a511357"
      },
      "execution_count": null,
      "outputs": [
        {
          "output_type": "stream",
          "name": "stdout",
          "text": [
            "The calendar for the year 2023 is :) \n",
            "                                  2023\n",
            "\n",
            "      January                   February                   March\n",
            "Mo Tu We Th Fr Sa Su      Mo Tu We Th Fr Sa Su      Mo Tu We Th Fr Sa Su\n",
            "                   1             1  2  3  4  5             1  2  3  4  5\n",
            " 2  3  4  5  6  7  8       6  7  8  9 10 11 12       6  7  8  9 10 11 12\n",
            " 9 10 11 12 13 14 15      13 14 15 16 17 18 19      13 14 15 16 17 18 19\n",
            "16 17 18 19 20 21 22      20 21 22 23 24 25 26      20 21 22 23 24 25 26\n",
            "23 24 25 26 27 28 29      27 28                     27 28 29 30 31\n",
            "30 31\n",
            "\n",
            "       April                      May                       June\n",
            "Mo Tu We Th Fr Sa Su      Mo Tu We Th Fr Sa Su      Mo Tu We Th Fr Sa Su\n",
            "                1  2       1  2  3  4  5  6  7                1  2  3  4\n",
            " 3  4  5  6  7  8  9       8  9 10 11 12 13 14       5  6  7  8  9 10 11\n",
            "10 11 12 13 14 15 16      15 16 17 18 19 20 21      12 13 14 15 16 17 18\n",
            "17 18 19 20 21 22 23      22 23 24 25 26 27 28      19 20 21 22 23 24 25\n",
            "24 25 26 27 28 29 30      29 30 31                  26 27 28 29 30\n",
            "\n",
            "        July                     August                  September\n",
            "Mo Tu We Th Fr Sa Su      Mo Tu We Th Fr Sa Su      Mo Tu We Th Fr Sa Su\n",
            "                1  2          1  2  3  4  5  6                   1  2  3\n",
            " 3  4  5  6  7  8  9       7  8  9 10 11 12 13       4  5  6  7  8  9 10\n",
            "10 11 12 13 14 15 16      14 15 16 17 18 19 20      11 12 13 14 15 16 17\n",
            "17 18 19 20 21 22 23      21 22 23 24 25 26 27      18 19 20 21 22 23 24\n",
            "24 25 26 27 28 29 30      28 29 30 31               25 26 27 28 29 30\n",
            "31\n",
            "\n",
            "      October                   November                  December\n",
            "Mo Tu We Th Fr Sa Su      Mo Tu We Th Fr Sa Su      Mo Tu We Th Fr Sa Su\n",
            "                   1             1  2  3  4  5                   1  2  3\n",
            " 2  3  4  5  6  7  8       6  7  8  9 10 11 12       4  5  6  7  8  9 10\n",
            " 9 10 11 12 13 14 15      13 14 15 16 17 18 19      11 12 13 14 15 16 17\n",
            "16 17 18 19 20 21 22      20 21 22 23 24 25 26      18 19 20 21 22 23 24\n",
            "23 24 25 26 27 28 29      27 28 29 30               25 26 27 28 29 30 31\n",
            "30 31\n",
            "\n"
          ]
        }
      ]
    },
    {
      "cell_type": "code",
      "source": [
        "# printing required month calender\n",
        "text_cal = calendar.TextCalendar(firstweekday = 0)\n",
        "\n",
        "year = 2023\n",
        "month = 9\n",
        "\n",
        "# default value of width is 0\n",
        "\n",
        "# printing prmonth\n",
        "print(text_cal.prmonth(year, month))"
      ],
      "metadata": {
        "colab": {
          "base_uri": "https://localhost:8080/"
        },
        "id": "NhQ0PeniN-ZJ",
        "outputId": "78551299-4769-424d-c984-f9de2abc2b7e"
      },
      "execution_count": null,
      "outputs": [
        {
          "output_type": "stream",
          "name": "stdout",
          "text": [
            "   September 2023\n",
            "Mo Tu We Th Fr Sa Su\n",
            "             1  2  3\n",
            " 4  5  6  7  8  9 10\n",
            "11 12 13 14 15 16 17\n",
            "18 19 20 21 22 23 24\n",
            "25 26 27 28 29 30\n",
            "None\n"
          ]
        }
      ]
    },
    {
      "cell_type": "markdown",
      "source": [
        "Likewise we have many built-in function in python to fetch different types calendar data."
      ],
      "metadata": {
        "id": "O2uytGAmO3LY"
      }
    },
    {
      "cell_type": "markdown",
      "source": [
        "# REGULAR EXPRESSIONS (RegEx)\n",
        "# Sequence of characters that forms a search pattern"
      ],
      "metadata": {
        "id": "MocL5y43F_9e"
      }
    },
    {
      "cell_type": "code",
      "source": [
        "import re #built - in function to search a string to find a match\n",
        "#EXAMPLE\n",
        "stmt = \"Regular expression in python made easier to handle different special characters\"\n",
        "res = re.findall(\"in\", stmt) # findall character in sentence\n",
        "print(res)"
      ],
      "metadata": {
        "colab": {
          "base_uri": "https://localhost:8080/"
        },
        "id": "6N7jLm8GGHXB",
        "outputId": "8f786a6d-2938-4e05-afb9-62ffe67e2e90"
      },
      "execution_count": null,
      "outputs": [
        {
          "output_type": "stream",
          "name": "stdout",
          "text": [
            "['in']\n"
          ]
        }
      ]
    }
  ]
}